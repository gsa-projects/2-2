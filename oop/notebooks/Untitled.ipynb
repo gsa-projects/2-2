{
 "cells": [
  {
   "cell_type": "code",
   "execution_count": null,
   "id": "02c161ad-49c0-4ce6-a0bc-7d3770df77a3",
   "metadata": {
    "is_executing": true
   },
   "outputs": [],
   "source": [
    "System.out.println(\"Hello World!\");"
   ]
  },
  {
   "cell_type": "code",
   "execution_count": null,
   "id": "9317c144-21fe-46e9-9cdb-3af1eaefb264",
   "metadata": {},
   "outputs": [],
   "source": []
  }
 ],
 "metadata": {
  "kernelspec": {
   "display_name": "Java",
   "language": "java",
   "name": "java"
  },
  "language_info": {
   "codemirror_mode": "java",
   "file_extension": ".jshell",
   "mimetype": "text/x-java-source",
   "name": "Java",
   "pygments_lexer": "java",
   "version": "17.0.8+7-LTS"
  }
 },
 "nbformat": 4,
 "nbformat_minor": 5
}
